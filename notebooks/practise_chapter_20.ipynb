{
 "cells": [
  {
   "cell_type": "markdown",
   "id": "85646fc3",
   "metadata": {},
   "source": [
    "# practise_chapter_20"
   ]
  },
  {
   "cell_type": "markdown",
   "id": "d1178bfc",
   "metadata": {},
   "source": [
    "## reframe_horizon"
   ]
  },
  {
   "cell_type": "code",
   "execution_count": null,
   "id": "a4f80122",
   "metadata": {},
   "outputs": [],
   "source": []
  },
  {
   "cell_type": "markdown",
   "id": "302af9fc",
   "metadata": {},
   "source": [
    "## reframe_classification"
   ]
  },
  {
   "cell_type": "code",
   "execution_count": null,
   "id": "0edf0fb9",
   "metadata": {},
   "outputs": [],
   "source": []
  },
  {
   "cell_type": "markdown",
   "id": "8999ccde",
   "metadata": {},
   "source": [
    "## reframe_regression"
   ]
  },
  {
   "cell_type": "code",
   "execution_count": null,
   "id": "de9b0cf2",
   "metadata": {},
   "outputs": [],
   "source": []
  }
 ],
 "metadata": {
  "kernelspec": {
   "display_name": ".venv",
   "language": "python",
   "name": "python3"
  },
  "language_info": {
   "name": "python",
   "version": "3.12.9"
  }
 },
 "nbformat": 4,
 "nbformat_minor": 2
}
