{
 "cells": [
  {
   "cell_type": "markdown",
   "id": "85646fc3",
   "metadata": {},
   "source": [
    "# practise_chapter_20"
   ]
  },
  {
   "cell_type": "markdown",
   "id": "d1178bfc",
   "metadata": {},
   "source": [
    "## reframe_horizon"
   ]
  },
  {
   "cell_type": "code",
   "execution_count": 37,
   "id": "a4f80122",
   "metadata": {},
   "outputs": [],
   "source": [
    "# reframe time horizon of forecast\n",
    "from pandas import read_csv\n",
    "from pandas import DataFrame\n",
    "from pandas import concat\n",
    "\n",
    "# load data\n",
    "series = read_csv(\n",
    "    \"../data/daily-minimum-temperatures.csv\", header=0, index_col=0, parse_dates=True\n",
    ").squeeze()\n",
    "\n",
    "# create lagged dataset\n",
    "values = DataFrame(series.values)"
   ]
  },
  {
   "cell_type": "code",
   "execution_count": 38,
   "metadata": {},
   "outputs": [
    {
     "name": "stdout",
     "output_type": "stream",
     "text": [
      "       t   t+1   t+2   t+3   t+4   t+5   t+6   t+7\n",
      "0    NaN  20.7  17.9  18.8  14.6  15.8  15.8  15.8\n",
      "1   20.7  17.9  18.8  14.6  15.8  15.8  15.8  17.4\n",
      "2   17.9  18.8  14.6  15.8  15.8  15.8  17.4  21.8\n",
      "3   18.8  14.6  15.8  15.8  15.8  17.4  21.8  20.0\n",
      "4   14.6  15.8  15.8  15.8  17.4  21.8  20.0  16.2\n",
      "5   15.8  15.8  15.8  17.4  21.8  20.0  16.2  13.3\n",
      "6   15.8  15.8  17.4  21.8  20.0  16.2  13.3  16.7\n",
      "7   15.8  17.4  21.8  20.0  16.2  13.3  16.7  21.5\n",
      "8   17.4  21.8  20.0  16.2  13.3  16.7  21.5  25.0\n",
      "9   21.8  20.0  16.2  13.3  16.7  21.5  25.0  20.7\n",
      "10  20.0  16.2  13.3  16.7  21.5  25.0  20.7  20.6\n",
      "11  16.2  13.3  16.7  21.5  25.0  20.7  20.6  24.8\n",
      "12  13.3  16.7  21.5  25.0  20.7  20.6  24.8  17.7\n",
      "13  16.7  21.5  25.0  20.7  20.6  24.8  17.7  15.5\n"
     ]
    }
   ],
   "source": [
    "dataframe = concat(\n",
    "    [\n",
    "        values.shift(1),\n",
    "        values,\n",
    "        values.shift(-1),\n",
    "        values.shift(-2),\n",
    "        values.shift(-3),\n",
    "        values.shift(-4),\n",
    "        values.shift(-5),\n",
    "        values.shift(-6),\n",
    "    ],\n",
    "    axis=1,\n",
    ")\n",
    "dataframe.columns = [\"t\", \"t+1\", \"t+2\", \"t+3\", \"t+4\", \"t+5\", \"t+6\", \"t+7\"]\n",
    "print(dataframe.head(14))"
   ]
  },
  {
   "cell_type": "markdown",
   "id": "302af9fc",
   "metadata": {},
   "source": [
    "## reframe_classification"
   ]
  },
  {
   "cell_type": "code",
   "execution_count": 39,
   "id": "0edf0fb9",
   "metadata": {},
   "outputs": [],
   "source": [
    "dataframe = concat([values.shift(1), values], axis=1)\n",
    "dataframe.columns = [\"t\", \"t+1\"]"
   ]
  },
  {
   "cell_type": "code",
   "execution_count": 40,
   "metadata": {},
   "outputs": [
    {
     "data": {
      "text/plain": [
       "3650"
      ]
     },
     "execution_count": 40,
     "metadata": {},
     "output_type": "execute_result"
    }
   ],
   "source": [
    "len(dataframe[\"t+1\"])"
   ]
  },
  {
   "cell_type": "code",
   "execution_count": 41,
   "metadata": {},
   "outputs": [
    {
     "data": {
      "text/plain": [
       "18.8"
      ]
     },
     "execution_count": 41,
     "metadata": {},
     "output_type": "execute_result"
    }
   ],
   "source": [
    "dataframe[\"t+1\"][2]"
   ]
  },
  {
   "cell_type": "code",
   "execution_count": 42,
   "metadata": {},
   "outputs": [
    {
     "name": "stdout",
     "output_type": "stream",
     "text": [
      "      t  t+1\n",
      "0   NaN    1\n",
      "1  20.7    1\n",
      "2  17.9    1\n",
      "3  18.8    1\n",
      "4  14.6    1\n"
     ]
    }
   ],
   "source": [
    "import numpy as np\n",
    "\n",
    "# Make discrete using np.select for vectorized operation\n",
    "conditions = [dataframe[\"t+1\"] < 10.0, dataframe[\"t+1\"] >= 25.0]\n",
    "choices = [0, 2]\n",
    "dataframe[\"t+1\"] = np.select(conditions, choices, default=1)\n",
    "print(dataframe.head(5))"
   ]
  },
  {
   "cell_type": "code",
   "execution_count": 43,
   "metadata": {},
   "outputs": [
    {
     "data": {
      "text/html": [
       "<div>\n",
       "<style scoped>\n",
       "    .dataframe tbody tr th:only-of-type {\n",
       "        vertical-align: middle;\n",
       "    }\n",
       "\n",
       "    .dataframe tbody tr th {\n",
       "        vertical-align: top;\n",
       "    }\n",
       "\n",
       "    .dataframe thead th {\n",
       "        text-align: right;\n",
       "    }\n",
       "</style>\n",
       "<table border=\"1\" class=\"dataframe\">\n",
       "  <thead>\n",
       "    <tr style=\"text-align: right;\">\n",
       "      <th></th>\n",
       "      <th>t</th>\n",
       "      <th>t+1</th>\n",
       "    </tr>\n",
       "  </thead>\n",
       "  <tbody>\n",
       "    <tr>\n",
       "      <th>2401</th>\n",
       "      <td>8.8</td>\n",
       "      <td>0</td>\n",
       "    </tr>\n",
       "    <tr>\n",
       "      <th>3038</th>\n",
       "      <td>15.8</td>\n",
       "      <td>1</td>\n",
       "    </tr>\n",
       "    <tr>\n",
       "      <th>3378</th>\n",
       "      <td>11.0</td>\n",
       "      <td>1</td>\n",
       "    </tr>\n",
       "    <tr>\n",
       "      <th>1657</th>\n",
       "      <td>6.2</td>\n",
       "      <td>0</td>\n",
       "    </tr>\n",
       "    <tr>\n",
       "      <th>2139</th>\n",
       "      <td>9.7</td>\n",
       "      <td>1</td>\n",
       "    </tr>\n",
       "  </tbody>\n",
       "</table>\n",
       "</div>"
      ],
      "text/plain": [
       "         t  t+1\n",
       "2401   8.8    0\n",
       "3038  15.8    1\n",
       "3378  11.0    1\n",
       "1657   6.2    0\n",
       "2139   9.7    1"
      ]
     },
     "execution_count": 43,
     "metadata": {},
     "output_type": "execute_result"
    }
   ],
   "source": [
    "dataframe.sample(5)"
   ]
  },
  {
   "cell_type": "markdown",
   "id": "8999ccde",
   "metadata": {},
   "source": [
    "## reframe_regression"
   ]
  },
  {
   "cell_type": "code",
   "execution_count": null,
   "id": "de9b0cf2",
   "metadata": {},
   "outputs": [],
   "source": []
  }
 ],
 "metadata": {
  "kernelspec": {
   "display_name": ".venv",
   "language": "python",
   "name": "python3"
  },
  "language_info": {
   "codemirror_mode": {
    "name": "ipython",
    "version": 3
   },
   "file_extension": ".py",
   "mimetype": "text/x-python",
   "name": "python",
   "nbconvert_exporter": "python",
   "pygments_lexer": "ipython3",
   "version": "3.12.10"
  }
 },
 "nbformat": 4,
 "nbformat_minor": 2
}
