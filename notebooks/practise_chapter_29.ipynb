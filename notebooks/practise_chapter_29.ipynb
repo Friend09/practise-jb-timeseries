{
 "cells": [
  {
   "cell_type": "markdown",
   "metadata": {},
   "source": [
    "# practise_chapter_29.ipynb"
   ]
  },
  {
   "cell_type": "code",
   "execution_count": null,
   "metadata": {},
   "outputs": [],
   "source": []
  },
  {
   "cell_type": "markdown",
   "id": "3e0d8e99",
   "metadata": {},
   "source": [
    "## dot_line_plot"
   ]
  },
  {
   "cell_type": "code",
   "execution_count": null,
   "id": "9d90d147",
   "metadata": {},
   "outputs": [],
   "source": []
  },
  {
   "cell_type": "markdown",
   "id": "4f8f473f",
   "metadata": {},
   "source": [
    "## scatterplot"
   ]
  },
  {
   "cell_type": "code",
   "execution_count": null,
   "id": "827915af",
   "metadata": {},
   "outputs": [],
   "source": []
  },
  {
   "cell_type": "markdown",
   "id": "5019202d",
   "metadata": {},
   "source": [
    "## density_plot"
   ]
  },
  {
   "cell_type": "code",
   "execution_count": null,
   "id": "a7655c1d",
   "metadata": {},
   "outputs": [],
   "source": []
  },
  {
   "cell_type": "markdown",
   "id": "f50072df",
   "metadata": {},
   "source": [
    "## heat_map_monthly"
   ]
  },
  {
   "cell_type": "code",
   "execution_count": null,
   "id": "f34c84b5",
   "metadata": {},
   "outputs": [],
   "source": []
  },
  {
   "cell_type": "markdown",
   "id": "39ecbb62",
   "metadata": {},
   "source": [
    "## autocorrelation_plot"
   ]
  },
  {
   "cell_type": "code",
   "execution_count": null,
   "id": "2f31f872",
   "metadata": {},
   "outputs": [],
   "source": []
  },
  {
   "cell_type": "markdown",
   "id": "aa6beea6",
   "metadata": {},
   "source": [
    "## histogram"
   ]
  },
  {
   "cell_type": "code",
   "execution_count": null,
   "id": "363f55d7",
   "metadata": {},
   "outputs": [],
   "source": []
  },
  {
   "cell_type": "markdown",
   "id": "a4535731",
   "metadata": {},
   "source": [
    "## multiple_scatterplot"
   ]
  },
  {
   "cell_type": "code",
   "execution_count": null,
   "id": "e4c7de0b",
   "metadata": {},
   "outputs": [],
   "source": []
  },
  {
   "cell_type": "markdown",
   "id": "4c3ad03f",
   "metadata": {},
   "source": [
    "## boxplot_yearly"
   ]
  },
  {
   "cell_type": "code",
   "execution_count": null,
   "id": "95b0b766",
   "metadata": {},
   "outputs": [],
   "source": []
  },
  {
   "cell_type": "markdown",
   "id": "31771287",
   "metadata": {},
   "source": [
    "## boxplot_monthly"
   ]
  },
  {
   "cell_type": "code",
   "execution_count": null,
   "id": "b083b5dd",
   "metadata": {},
   "outputs": [],
   "source": []
  },
  {
   "cell_type": "markdown",
   "id": "0dde876b",
   "metadata": {},
   "source": [
    "## line_plot"
   ]
  },
  {
   "cell_type": "code",
   "execution_count": null,
   "id": "ef6c1fd8",
   "metadata": {},
   "outputs": [],
   "source": []
  },
  {
   "cell_type": "markdown",
   "id": "c430fed3",
   "metadata": {},
   "source": [
    "## heat_map_yearly"
   ]
  },
  {
   "cell_type": "code",
   "execution_count": null,
   "id": "60632984",
   "metadata": {},
   "outputs": [],
   "source": []
  },
  {
   "cell_type": "markdown",
   "id": "0df86afe",
   "metadata": {},
   "source": [
    "## stacked_line_plot"
   ]
  },
  {
   "cell_type": "code",
   "execution_count": null,
   "id": "68af4a64",
   "metadata": {},
   "outputs": [],
   "source": []
  }
 ],
 "metadata": {
  "kernelspec": {
   "display_name": ".venv",
   "language": "python",
   "name": "python3"
  },
  "language_info": {
   "name": "python",
   "version": "3.12.9"
  }
 },
 "nbformat": 4,
 "nbformat_minor": 2
}
