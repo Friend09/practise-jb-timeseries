{
 "cells": [
  {
   "cell_type": "markdown",
   "id": "3cdaeaac",
   "metadata": {},
   "source": [
    "# practise_chapter_16"
   ]
  },
  {
   "cell_type": "markdown",
   "id": "d7143664",
   "metadata": {},
   "source": [
    "## train_test_split_plot"
   ]
  },
  {
   "cell_type": "code",
   "execution_count": null,
   "id": "b0d46de1",
   "metadata": {},
   "outputs": [],
   "source": []
  },
  {
   "cell_type": "markdown",
   "id": "32166b0f",
   "metadata": {},
   "source": [
    "## repeated_splits"
   ]
  },
  {
   "cell_type": "code",
   "execution_count": null,
   "id": "b22fe0b0",
   "metadata": {},
   "outputs": [],
   "source": []
  },
  {
   "cell_type": "markdown",
   "id": "5314da3a",
   "metadata": {},
   "source": [
    "## walk_forward_validation"
   ]
  },
  {
   "cell_type": "code",
   "execution_count": null,
   "id": "297e45ea",
   "metadata": {},
   "outputs": [],
   "source": []
  },
  {
   "cell_type": "markdown",
   "id": "9e4ed09c",
   "metadata": {},
   "source": [
    "## train_test_split"
   ]
  },
  {
   "cell_type": "code",
   "execution_count": null,
   "id": "42275a9a",
   "metadata": {},
   "outputs": [],
   "source": []
  }
 ],
 "metadata": {
  "kernelspec": {
   "display_name": ".venv",
   "language": "python",
   "name": "python3"
  },
  "language_info": {
   "name": "python",
   "version": "3.12.9"
  }
 },
 "nbformat": 4,
 "nbformat_minor": 2
}
