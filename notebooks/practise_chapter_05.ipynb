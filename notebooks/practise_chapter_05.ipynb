{
 "cells": [
  {
   "cell_type": "markdown",
   "id": "435277b6",
   "metadata": {},
   "source": [
    "# practise_chapter_05"
   ]
  },
  {
   "cell_type": "markdown",
   "id": "3e871de2",
   "metadata": {},
   "source": [
    "## features_lag1"
   ]
  },
  {
   "cell_type": "code",
   "execution_count": null,
   "id": "2cf24a16",
   "metadata": {},
   "outputs": [],
   "source": []
  },
  {
   "cell_type": "markdown",
   "id": "c9c20e5e",
   "metadata": {},
   "source": [
    "## features_date_time"
   ]
  },
  {
   "cell_type": "code",
   "execution_count": null,
   "id": "25416ee0",
   "metadata": {},
   "outputs": [],
   "source": []
  },
  {
   "cell_type": "markdown",
   "id": "dd16ce36",
   "metadata": {},
   "source": [
    "## features_expanding"
   ]
  },
  {
   "cell_type": "code",
   "execution_count": null,
   "id": "8fe2c0cf",
   "metadata": {},
   "outputs": [],
   "source": []
  },
  {
   "cell_type": "markdown",
   "id": "63cc18d9",
   "metadata": {},
   "source": [
    "## features_rolling_stats"
   ]
  },
  {
   "cell_type": "code",
   "execution_count": null,
   "id": "dbcbf7ab",
   "metadata": {},
   "outputs": [],
   "source": []
  },
  {
   "cell_type": "markdown",
   "id": "b37ba1d0",
   "metadata": {},
   "source": [
    "## features_rolling_mean"
   ]
  },
  {
   "cell_type": "code",
   "execution_count": null,
   "id": "aeb1daf5",
   "metadata": {},
   "outputs": [],
   "source": []
  },
  {
   "cell_type": "markdown",
   "id": "de3740a8",
   "metadata": {},
   "source": [
    "## features_lag3"
   ]
  },
  {
   "cell_type": "code",
   "execution_count": null,
   "id": "982fc382",
   "metadata": {},
   "outputs": [],
   "source": []
  }
 ],
 "metadata": {
  "kernelspec": {
   "display_name": ".venv",
   "language": "python",
   "name": "python3"
  },
  "language_info": {
   "codemirror_mode": {
    "name": "ipython",
    "version": 3
   },
   "file_extension": ".py",
   "mimetype": "text/x-python",
   "name": "python",
   "nbconvert_exporter": "python",
   "pygments_lexer": "ipython3",
   "version": "3.12.9"
  }
 },
 "nbformat": 4,
 "nbformat_minor": 2
}
