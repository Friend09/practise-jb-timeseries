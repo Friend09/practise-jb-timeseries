{
 "cells": [
  {
   "cell_type": "markdown",
   "id": "73aef5ed",
   "metadata": {},
   "source": [
    "# practise_chapter_23"
   ]
  },
  {
   "cell_type": "markdown",
   "id": "1eb471de",
   "metadata": {},
   "source": [
    "## correct_predictions"
   ]
  },
  {
   "cell_type": "code",
   "execution_count": null,
   "id": "8de69998",
   "metadata": {},
   "outputs": [],
   "source": []
  },
  {
   "cell_type": "markdown",
   "id": "3fbe27a9",
   "metadata": {},
   "source": [
    "## persistence"
   ]
  },
  {
   "cell_type": "code",
   "execution_count": null,
   "id": "8d0f9511",
   "metadata": {},
   "outputs": [],
   "source": []
  },
  {
   "cell_type": "markdown",
   "id": "3af0683e",
   "metadata": {},
   "source": [
    "## autoregress_residuals"
   ]
  },
  {
   "cell_type": "code",
   "execution_count": null,
   "id": "ce6a239b",
   "metadata": {},
   "outputs": [],
   "source": []
  },
  {
   "cell_type": "markdown",
   "id": "dae4ced2",
   "metadata": {},
   "source": [
    "## predict_residual_error"
   ]
  },
  {
   "cell_type": "code",
   "execution_count": null,
   "id": "c5015fc6",
   "metadata": {},
   "outputs": [],
   "source": []
  }
 ],
 "metadata": {
  "kernelspec": {
   "display_name": ".venv",
   "language": "python",
   "name": "python3"
  },
  "language_info": {
   "name": "python",
   "version": "3.12.9"
  }
 },
 "nbformat": 4,
 "nbformat_minor": 2
}
