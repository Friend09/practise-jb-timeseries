{
 "cells": [
  {
   "cell_type": "markdown",
   "id": "a02dcbc7",
   "metadata": {},
   "source": [
    "# practise_chapter_26"
   ]
  },
  {
   "cell_type": "markdown",
   "id": "5916e95d",
   "metadata": {},
   "source": [
    "## grid_search_female_births"
   ]
  },
  {
   "cell_type": "code",
   "execution_count": null,
   "id": "483d596d",
   "metadata": {},
   "outputs": [],
   "source": []
  },
  {
   "cell_type": "markdown",
   "id": "801c6894",
   "metadata": {},
   "source": [
    "## grid_search_shampoo"
   ]
  },
  {
   "cell_type": "code",
   "execution_count": null,
   "id": "09f40cd9",
   "metadata": {},
   "outputs": [],
   "source": []
  }
 ],
 "metadata": {
  "kernelspec": {
   "display_name": ".venv",
   "language": "python",
   "name": "python3"
  },
  "language_info": {
   "name": "python",
   "version": "3.12.9"
  }
 },
 "nbformat": 4,
 "nbformat_minor": 2
}
