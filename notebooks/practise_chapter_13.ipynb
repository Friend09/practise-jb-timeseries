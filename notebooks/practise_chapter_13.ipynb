{
 "cells": [
  {
   "cell_type": "markdown",
   "id": "856e333f",
   "metadata": {},
   "source": [
    "# practise_chapter_13"
   ]
  },
  {
   "cell_type": "markdown",
   "id": "d49acbb7",
   "metadata": {},
   "source": [
    "## differenced"
   ]
  },
  {
   "cell_type": "code",
   "execution_count": null,
   "id": "735c4045",
   "metadata": {},
   "outputs": [],
   "source": []
  },
  {
   "cell_type": "markdown",
   "id": "3ba6a3be",
   "metadata": {},
   "source": [
    "## linear_model"
   ]
  },
  {
   "cell_type": "code",
   "execution_count": null,
   "id": "ebb06878",
   "metadata": {},
   "outputs": [],
   "source": []
  }
 ],
 "metadata": {
  "kernelspec": {
   "display_name": ".venv",
   "language": "python",
   "name": "python3"
  },
  "language_info": {
   "name": "python",
   "version": "3.12.9"
  }
 },
 "nbformat": 4,
 "nbformat_minor": 2
}
