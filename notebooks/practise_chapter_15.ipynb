{
 "cells": [
  {
   "cell_type": "markdown",
   "id": "0ed66e58",
   "metadata": {},
   "source": [
    "# practise_chapter_15"
   ]
  },
  {
   "cell_type": "markdown",
   "id": "75bd9b7e",
   "metadata": {},
   "source": [
    "## histogram_log_airline"
   ]
  },
  {
   "cell_type": "code",
   "execution_count": null,
   "id": "08c82afb",
   "metadata": {},
   "outputs": [],
   "source": []
  },
  {
   "cell_type": "markdown",
   "id": "824aecca",
   "metadata": {},
   "source": [
    "## histogram_airline"
   ]
  },
  {
   "cell_type": "code",
   "execution_count": null,
   "id": "1177c2b0",
   "metadata": {},
   "outputs": [],
   "source": []
  },
  {
   "cell_type": "markdown",
   "id": "d7dc6e57",
   "metadata": {},
   "source": [
    "## test_airline"
   ]
  },
  {
   "cell_type": "code",
   "execution_count": null,
   "id": "d075d199",
   "metadata": {},
   "outputs": [],
   "source": []
  },
  {
   "cell_type": "markdown",
   "id": "90d358e5",
   "metadata": {},
   "source": [
    "## test_births"
   ]
  },
  {
   "cell_type": "code",
   "execution_count": null,
   "id": "1104d256",
   "metadata": {},
   "outputs": [],
   "source": []
  },
  {
   "cell_type": "markdown",
   "id": "10050289",
   "metadata": {},
   "source": [
    "## load_airline"
   ]
  },
  {
   "cell_type": "code",
   "execution_count": null,
   "id": "51a79538",
   "metadata": {},
   "outputs": [],
   "source": []
  },
  {
   "cell_type": "markdown",
   "id": "60820758",
   "metadata": {},
   "source": [
    "## stats_births"
   ]
  },
  {
   "cell_type": "code",
   "execution_count": null,
   "id": "34c3f3a3",
   "metadata": {},
   "outputs": [],
   "source": []
  },
  {
   "cell_type": "markdown",
   "id": "50d100de",
   "metadata": {},
   "source": [
    "## histogram_births"
   ]
  },
  {
   "cell_type": "code",
   "execution_count": null,
   "id": "433086c6",
   "metadata": {},
   "outputs": [],
   "source": []
  },
  {
   "cell_type": "markdown",
   "id": "340a03b6",
   "metadata": {},
   "source": [
    "## stats_airline"
   ]
  },
  {
   "cell_type": "code",
   "execution_count": null,
   "id": "fd6418d3",
   "metadata": {},
   "outputs": [],
   "source": []
  },
  {
   "cell_type": "markdown",
   "id": "ea496e6f",
   "metadata": {},
   "source": [
    "## load_female_births"
   ]
  },
  {
   "cell_type": "code",
   "execution_count": null,
   "id": "d28cda3c",
   "metadata": {},
   "outputs": [],
   "source": []
  },
  {
   "cell_type": "markdown",
   "id": "6d63d0b4",
   "metadata": {},
   "source": [
    "## test_log_airline"
   ]
  },
  {
   "cell_type": "code",
   "execution_count": null,
   "id": "3fb2719f",
   "metadata": {},
   "outputs": [],
   "source": []
  },
  {
   "cell_type": "markdown",
   "id": "0bae7b2a",
   "metadata": {},
   "source": [
    "## stats_log_airline"
   ]
  },
  {
   "cell_type": "code",
   "execution_count": null,
   "id": "3744aa8b",
   "metadata": {},
   "outputs": [],
   "source": []
  }
 ],
 "metadata": {
  "kernelspec": {
   "display_name": ".venv",
   "language": "python",
   "name": "python3"
  },
  "language_info": {
   "name": "python",
   "version": "3.12.9"
  }
 },
 "nbformat": 4,
 "nbformat_minor": 2
}
