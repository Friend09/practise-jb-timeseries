{
 "cells": [
  {
   "cell_type": "markdown",
   "id": "d0a3f284",
   "metadata": {},
   "source": [
    "# practise_chapter_08"
   ]
  },
  {
   "cell_type": "markdown",
   "id": "66747f3b",
   "metadata": {},
   "source": [
    "## series_exponential"
   ]
  },
  {
   "cell_type": "code",
   "execution_count": null,
   "id": "1336a69e",
   "metadata": {},
   "outputs": [],
   "source": []
  },
  {
   "cell_type": "markdown",
   "id": "3478dab1",
   "metadata": {},
   "source": [
    "## series_quadratic"
   ]
  },
  {
   "cell_type": "code",
   "execution_count": null,
   "id": "488ed29f",
   "metadata": {},
   "outputs": [],
   "source": []
  },
  {
   "cell_type": "markdown",
   "id": "dada8a4a",
   "metadata": {},
   "source": [
    "## plot_dataset"
   ]
  },
  {
   "cell_type": "code",
   "execution_count": null,
   "id": "54e44119",
   "metadata": {},
   "outputs": [],
   "source": []
  },
  {
   "cell_type": "markdown",
   "id": "9a5dad2d",
   "metadata": {},
   "source": [
    "## airline_boxcox_auto"
   ]
  },
  {
   "cell_type": "code",
   "execution_count": null,
   "id": "78d9feab",
   "metadata": {},
   "outputs": [],
   "source": []
  },
  {
   "cell_type": "markdown",
   "id": "62830c1c",
   "metadata": {},
   "source": [
    "## series_exponential_log"
   ]
  },
  {
   "cell_type": "code",
   "execution_count": null,
   "id": "5474414d",
   "metadata": {},
   "outputs": [],
   "source": []
  },
  {
   "cell_type": "markdown",
   "id": "9c42dce0",
   "metadata": {},
   "source": [
    "## airline_sqrt"
   ]
  },
  {
   "cell_type": "code",
   "execution_count": null,
   "id": "62671dbc",
   "metadata": {},
   "outputs": [],
   "source": []
  },
  {
   "cell_type": "markdown",
   "id": "78a26536",
   "metadata": {},
   "source": [
    "## airline_log"
   ]
  },
  {
   "cell_type": "code",
   "execution_count": null,
   "id": "d46231f3",
   "metadata": {},
   "outputs": [],
   "source": []
  },
  {
   "cell_type": "markdown",
   "id": "bdb673f4",
   "metadata": {},
   "source": [
    "## series_quadratic_sqrt"
   ]
  },
  {
   "cell_type": "code",
   "execution_count": null,
   "id": "730da9b0",
   "metadata": {},
   "outputs": [],
   "source": []
  },
  {
   "cell_type": "markdown",
   "id": "9bdd92cd",
   "metadata": {},
   "source": [
    "## airline_boxcox"
   ]
  },
  {
   "cell_type": "code",
   "execution_count": null,
   "id": "e27f0aba",
   "metadata": {},
   "outputs": [],
   "source": []
  }
 ],
 "metadata": {
  "kernelspec": {
   "display_name": ".venv",
   "language": "python",
   "name": "python3"
  },
  "language_info": {
   "name": "python",
   "version": "3.12.9"
  }
 },
 "nbformat": 4,
 "nbformat_minor": 2
}
