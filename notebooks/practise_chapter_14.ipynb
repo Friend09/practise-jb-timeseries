{
 "cells": [
  {
   "cell_type": "markdown",
   "id": "c634c90f",
   "metadata": {},
   "source": [
    "# practise_chapter_14"
   ]
  },
  {
   "cell_type": "markdown",
   "id": "c7e23f5d",
   "metadata": {},
   "source": [
    "## model_seasonality"
   ]
  },
  {
   "cell_type": "code",
   "execution_count": null,
   "id": "5068ebd8",
   "metadata": {},
   "outputs": [],
   "source": []
  },
  {
   "cell_type": "markdown",
   "id": "1a0d227d",
   "metadata": {},
   "source": [
    "## differencing_with_monthly"
   ]
  },
  {
   "cell_type": "code",
   "execution_count": null,
   "id": "50245d4d",
   "metadata": {},
   "outputs": [],
   "source": []
  },
  {
   "cell_type": "markdown",
   "id": "6fc33ef5",
   "metadata": {},
   "source": [
    "## monthly_differenced"
   ]
  },
  {
   "cell_type": "code",
   "execution_count": null,
   "id": "bf6b76be",
   "metadata": {},
   "outputs": [],
   "source": []
  },
  {
   "cell_type": "markdown",
   "id": "e8333ba0",
   "metadata": {},
   "source": [
    "## differencing"
   ]
  },
  {
   "cell_type": "code",
   "execution_count": null,
   "id": "4e26ce2b",
   "metadata": {},
   "outputs": [],
   "source": []
  },
  {
   "cell_type": "markdown",
   "id": "0c866491",
   "metadata": {},
   "source": [
    "## model_differenced"
   ]
  },
  {
   "cell_type": "code",
   "execution_count": null,
   "id": "cfac0ed7",
   "metadata": {},
   "outputs": [],
   "source": []
  },
  {
   "cell_type": "markdown",
   "id": "c46b7ad6",
   "metadata": {},
   "source": [
    "## monthly_average"
   ]
  },
  {
   "cell_type": "code",
   "execution_count": null,
   "id": "e8c27db3",
   "metadata": {},
   "outputs": [],
   "source": []
  }
 ],
 "metadata": {
  "kernelspec": {
   "display_name": ".venv",
   "language": "python",
   "name": "python3"
  },
  "language_info": {
   "name": "python",
   "version": "3.12.9"
  }
 },
 "nbformat": 4,
 "nbformat_minor": 2
}
