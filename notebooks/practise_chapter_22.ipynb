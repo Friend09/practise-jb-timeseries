{
 "cells": [
  {
   "cell_type": "markdown",
   "id": "405a0f76",
   "metadata": {},
   "source": [
    "# practise_chapter_22"
   ]
  },
  {
   "cell_type": "markdown",
   "id": "6a61ec93",
   "metadata": {},
   "source": [
    "## autocorelation_plot"
   ]
  },
  {
   "cell_type": "code",
   "execution_count": null,
   "id": "5e72c327",
   "metadata": {},
   "outputs": [],
   "source": []
  },
  {
   "cell_type": "markdown",
   "id": "38cf6030",
   "metadata": {},
   "source": [
    "## persistence"
   ]
  },
  {
   "cell_type": "code",
   "execution_count": null,
   "id": "e27135af",
   "metadata": {},
   "outputs": [],
   "source": []
  },
  {
   "cell_type": "markdown",
   "id": "903a3ee4",
   "metadata": {},
   "source": [
    "## log_plot"
   ]
  },
  {
   "cell_type": "code",
   "execution_count": null,
   "id": "b4d41eb3",
   "metadata": {},
   "outputs": [],
   "source": []
  },
  {
   "cell_type": "markdown",
   "id": "5edbcbe3",
   "metadata": {},
   "source": [
    "## autocorelation_plot_statsmodels"
   ]
  },
  {
   "cell_type": "code",
   "execution_count": null,
   "id": "a1ae534f",
   "metadata": {},
   "outputs": [],
   "source": []
  },
  {
   "cell_type": "markdown",
   "id": "27112a34",
   "metadata": {},
   "source": [
    "## ar_model"
   ]
  },
  {
   "cell_type": "code",
   "execution_count": null,
   "id": "8fac9512",
   "metadata": {},
   "outputs": [],
   "source": []
  },
  {
   "cell_type": "markdown",
   "id": "b9058131",
   "metadata": {},
   "source": [
    "## ar_model_predictions"
   ]
  },
  {
   "cell_type": "code",
   "execution_count": null,
   "id": "9c895f06",
   "metadata": {},
   "outputs": [],
   "source": []
  },
  {
   "cell_type": "markdown",
   "id": "36f514d6",
   "metadata": {},
   "source": [
    "## correlation"
   ]
  },
  {
   "cell_type": "code",
   "execution_count": null,
   "id": "75f28d10",
   "metadata": {},
   "outputs": [],
   "source": []
  }
 ],
 "metadata": {
  "kernelspec": {
   "display_name": ".venv",
   "language": "python",
   "name": "python3"
  },
  "language_info": {
   "name": "python",
   "version": "3.12.9"
  }
 },
 "nbformat": 4,
 "nbformat_minor": 2
}
