{
 "cells": [
  {
   "cell_type": "markdown",
   "id": "d264220d",
   "metadata": {},
   "source": [
    "# practise_chapter_19"
   ]
  },
  {
   "cell_type": "markdown",
   "id": "52bf3c65",
   "metadata": {},
   "source": [
    "## residuals_acf_plot"
   ]
  },
  {
   "cell_type": "code",
   "execution_count": null,
   "id": "53a2c491",
   "metadata": {},
   "outputs": [],
   "source": []
  },
  {
   "cell_type": "markdown",
   "id": "4fac8ee7",
   "metadata": {},
   "source": [
    "## residuals_density_plot"
   ]
  },
  {
   "cell_type": "code",
   "execution_count": null,
   "id": "25bf73cd",
   "metadata": {},
   "outputs": [],
   "source": []
  },
  {
   "cell_type": "markdown",
   "id": "8c42fd04",
   "metadata": {},
   "source": [
    "## persistence_forecast"
   ]
  },
  {
   "cell_type": "code",
   "execution_count": null,
   "id": "4446c1e8",
   "metadata": {},
   "outputs": [],
   "source": []
  },
  {
   "cell_type": "markdown",
   "id": "6ad340f6",
   "metadata": {},
   "source": [
    "## residuals_line_plot"
   ]
  },
  {
   "cell_type": "code",
   "execution_count": null,
   "id": "6980da50",
   "metadata": {},
   "outputs": [],
   "source": []
  },
  {
   "cell_type": "markdown",
   "id": "9a26d156",
   "metadata": {},
   "source": [
    "## residuals_stats"
   ]
  },
  {
   "cell_type": "code",
   "execution_count": null,
   "id": "b73c6117",
   "metadata": {},
   "outputs": [],
   "source": []
  },
  {
   "cell_type": "markdown",
   "id": "5e5a87d7",
   "metadata": {},
   "source": [
    "## residuals_qq_plot"
   ]
  },
  {
   "cell_type": "code",
   "execution_count": null,
   "id": "7fb64761",
   "metadata": {},
   "outputs": [],
   "source": []
  }
 ],
 "metadata": {
  "kernelspec": {
   "display_name": ".venv",
   "language": "python",
   "name": "python3"
  },
  "language_info": {
   "name": "python",
   "version": "3.12.9"
  }
 },
 "nbformat": 4,
 "nbformat_minor": 2
}
