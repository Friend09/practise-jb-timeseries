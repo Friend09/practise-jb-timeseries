{
 "cells": [
  {
   "cell_type": "markdown",
   "metadata": {},
   "source": [
    "# practise_chapter_21.ipynb"
   ]
  },
  {
   "cell_type": "code",
   "execution_count": null,
   "metadata": {},
   "outputs": [],
   "source": []
  },
  {
   "cell_type": "markdown",
   "id": "7fa99ac6",
   "metadata": {},
   "source": [
    "## dot_line_plot"
   ]
  },
  {
   "cell_type": "code",
   "execution_count": null,
   "id": "d825c1c1",
   "metadata": {},
   "outputs": [],
   "source": []
  },
  {
   "cell_type": "markdown",
   "id": "a5e3b2cc",
   "metadata": {},
   "source": [
    "## scatterplot"
   ]
  },
  {
   "cell_type": "code",
   "execution_count": null,
   "id": "8c86554a",
   "metadata": {},
   "outputs": [],
   "source": []
  },
  {
   "cell_type": "markdown",
   "id": "49b183fa",
   "metadata": {},
   "source": [
    "## density_plot"
   ]
  },
  {
   "cell_type": "code",
   "execution_count": null,
   "id": "d1862e04",
   "metadata": {},
   "outputs": [],
   "source": []
  },
  {
   "cell_type": "markdown",
   "id": "2f7eed68",
   "metadata": {},
   "source": [
    "## heat_map_monthly"
   ]
  },
  {
   "cell_type": "code",
   "execution_count": null,
   "id": "9f7389a8",
   "metadata": {},
   "outputs": [],
   "source": []
  },
  {
   "cell_type": "markdown",
   "id": "abca9b2a",
   "metadata": {},
   "source": [
    "## autocorrelation_plot"
   ]
  },
  {
   "cell_type": "code",
   "execution_count": null,
   "id": "20a3087e",
   "metadata": {},
   "outputs": [],
   "source": []
  },
  {
   "cell_type": "markdown",
   "id": "bf2865a8",
   "metadata": {},
   "source": [
    "## histogram"
   ]
  },
  {
   "cell_type": "code",
   "execution_count": null,
   "id": "16841569",
   "metadata": {},
   "outputs": [],
   "source": []
  },
  {
   "cell_type": "markdown",
   "id": "cf65ea59",
   "metadata": {},
   "source": [
    "## multiple_scatterplot"
   ]
  },
  {
   "cell_type": "code",
   "execution_count": null,
   "id": "59438e7b",
   "metadata": {},
   "outputs": [],
   "source": []
  },
  {
   "cell_type": "markdown",
   "id": "c8ff5fd1",
   "metadata": {},
   "source": [
    "## boxplot_yearly"
   ]
  },
  {
   "cell_type": "code",
   "execution_count": null,
   "id": "89964551",
   "metadata": {},
   "outputs": [],
   "source": []
  },
  {
   "cell_type": "markdown",
   "id": "17f98bda",
   "metadata": {},
   "source": [
    "## boxplot_monthly"
   ]
  },
  {
   "cell_type": "code",
   "execution_count": null,
   "id": "13d9d56e",
   "metadata": {},
   "outputs": [],
   "source": []
  },
  {
   "cell_type": "markdown",
   "id": "a02b8ab2",
   "metadata": {},
   "source": [
    "## line_plot"
   ]
  },
  {
   "cell_type": "code",
   "execution_count": null,
   "id": "5ececf1a",
   "metadata": {},
   "outputs": [],
   "source": []
  },
  {
   "cell_type": "markdown",
   "id": "0adc1a30",
   "metadata": {},
   "source": [
    "## heat_map_yearly"
   ]
  },
  {
   "cell_type": "code",
   "execution_count": null,
   "id": "01cb5742",
   "metadata": {},
   "outputs": [],
   "source": []
  },
  {
   "cell_type": "markdown",
   "id": "16316c86",
   "metadata": {},
   "source": [
    "## stacked_line_plot"
   ]
  },
  {
   "cell_type": "code",
   "execution_count": null,
   "id": "2ae7d99f",
   "metadata": {},
   "outputs": [],
   "source": []
  }
 ],
 "metadata": {
  "kernelspec": {
   "display_name": ".venv",
   "language": "python",
   "name": "python3"
  },
  "language_info": {
   "name": "python",
   "version": "3.12.9"
  }
 },
 "nbformat": 4,
 "nbformat_minor": 2
}
