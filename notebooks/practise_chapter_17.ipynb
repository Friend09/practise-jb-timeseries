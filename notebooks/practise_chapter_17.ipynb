{
 "cells": [
  {
   "cell_type": "markdown",
   "id": "82be72c1",
   "metadata": {},
   "source": [
    "# practise_chapter_17"
   ]
  },
  {
   "cell_type": "markdown",
   "id": "6d8c8c5d",
   "metadata": {},
   "source": [
    "## mean_squared_error"
   ]
  },
  {
   "cell_type": "code",
   "execution_count": 3,
   "id": "5f24fd35",
   "metadata": {},
   "outputs": [
    {
     "name": "stdout",
     "output_type": "stream",
     "text": [
      "MSE: 0.022000\n"
     ]
    }
   ],
   "source": [
    "# calculate mean squared error\n",
    "from sklearn.metrics import mean_squared_error\n",
    "\n",
    "expected = [0.0, 0.5, 0.0, 0.5, 0.0]\n",
    "predictions = [0.2, 0.4, 0.1, 0.6, 0.2]\n",
    "\n",
    "mse = mean_squared_error(expected, predictions)\n",
    "print(\"MSE: %f\" % mse)"
   ]
  },
  {
   "cell_type": "markdown",
   "id": "2f69afcc",
   "metadata": {},
   "source": [
    "## mean_absolute_error"
   ]
  },
  {
   "cell_type": "code",
   "execution_count": 4,
   "id": "343f058d",
   "metadata": {},
   "outputs": [
    {
     "name": "stdout",
     "output_type": "stream",
     "text": [
      "MAE: 0.140000\n"
     ]
    }
   ],
   "source": [
    "# calculate mean absolute error\n",
    "from sklearn.metrics import mean_absolute_error\n",
    "\n",
    "expected = [0.0, 0.5, 0.0, 0.5, 0.0]\n",
    "predictions = [0.2, 0.4, 0.1, 0.6, 0.2]\n",
    "mae = mean_absolute_error(expected, predictions)\n",
    "print(\"MAE: %f\" % mae)"
   ]
  },
  {
   "cell_type": "markdown",
   "id": "4386f946",
   "metadata": {},
   "source": [
    "## mean_forecast_error"
   ]
  },
  {
   "cell_type": "code",
   "execution_count": 8,
   "id": "a80d0ba3",
   "metadata": {},
   "outputs": [
    {
     "name": "stdout",
     "output_type": "stream",
     "text": [
      "Bias: -0.100000\n"
     ]
    }
   ],
   "source": [
    "# calculate mean forecast error\n",
    "expected = [0.0, 0.5, 0.0, 0.5, 0.0]\n",
    "predictions = [0.2, 0.4, 0.1, 0.6, 0.2]\n",
    "forecast_errors = [expected[i] - predictions[i] for i in range(len(expected))]\n",
    "bias = sum(forecast_errors) * 1.0 / len(expected)\n",
    "print(\"Bias: %f\" % bias)"
   ]
  },
  {
   "cell_type": "markdown",
   "id": "aa802b12",
   "metadata": {},
   "source": [
    "## root_mean_squared_error"
   ]
  },
  {
   "cell_type": "code",
   "execution_count": 10,
   "id": "32c12396",
   "metadata": {},
   "outputs": [
    {
     "name": "stdout",
     "output_type": "stream",
     "text": [
      "RMSE: 0.148324\n"
     ]
    }
   ],
   "source": [
    "# calculate root mean squared error\n",
    "from sklearn.metrics import mean_squared_error\n",
    "from math import sqrt\n",
    "\n",
    "expected = [0.0, 0.5, 0.0, 0.5, 0.0]\n",
    "predictions = [0.2, 0.4, 0.1, 0.6, 0.2]\n",
    "mse = mean_squared_error(expected, predictions)\n",
    "rmse = sqrt(mse)\n",
    "print(\"RMSE: %f\" % rmse)"
   ]
  },
  {
   "cell_type": "markdown",
   "id": "d00bc752",
   "metadata": {},
   "source": [
    "## forecast_error"
   ]
  },
  {
   "cell_type": "code",
   "execution_count": 11,
   "id": "b32d0ce3",
   "metadata": {},
   "outputs": [
    {
     "name": "stdout",
     "output_type": "stream",
     "text": [
      "Forecast Errors: [-0.2, 0.09999999999999998, -0.1, -0.09999999999999998, -0.2]\n"
     ]
    }
   ],
   "source": [
    "# calculate forecast error\n",
    "expected = [0.0, 0.5, 0.0, 0.5, 0.0]\n",
    "predictions = [0.2, 0.4, 0.1, 0.6, 0.2]\n",
    "forecast_errors = [expected[i] - predictions[i] for i in range(len(expected))]\n",
    "print(\"Forecast Errors: %s\" % forecast_errors)"
   ]
  }
 ],
 "metadata": {
  "kernelspec": {
   "display_name": ".venv",
   "language": "python",
   "name": "python3"
  },
  "language_info": {
   "codemirror_mode": {
    "name": "ipython",
    "version": 3
   },
   "file_extension": ".py",
   "mimetype": "text/x-python",
   "name": "python",
   "nbconvert_exporter": "python",
   "pygments_lexer": "ipython3",
   "version": "3.12.10"
  }
 },
 "nbformat": 4,
 "nbformat_minor": 2
}
