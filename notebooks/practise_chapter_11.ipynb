{
 "cells": [
  {
   "cell_type": "markdown",
   "id": "e1e6a4d6",
   "metadata": {},
   "source": [
    "# practise_chapter_11"
   ]
  },
  {
   "cell_type": "markdown",
   "id": "b442c2bf",
   "metadata": {},
   "source": [
    "## random_walk_persistence"
   ]
  },
  {
   "cell_type": "code",
   "execution_count": null,
   "id": "776d13e5",
   "metadata": {},
   "outputs": [],
   "source": []
  },
  {
   "cell_type": "markdown",
   "id": "ba218658",
   "metadata": {},
   "source": [
    "## random_walk_random"
   ]
  },
  {
   "cell_type": "code",
   "execution_count": null,
   "id": "c9e904b4",
   "metadata": {},
   "outputs": [],
   "source": []
  },
  {
   "cell_type": "markdown",
   "id": "0fc3b571",
   "metadata": {},
   "source": [
    "## random_walk_differenced"
   ]
  },
  {
   "cell_type": "code",
   "execution_count": null,
   "id": "cf49abf6",
   "metadata": {},
   "outputs": [],
   "source": []
  },
  {
   "cell_type": "markdown",
   "id": "82e6127f",
   "metadata": {},
   "source": [
    "## random_walk_stationarity"
   ]
  },
  {
   "cell_type": "code",
   "execution_count": null,
   "id": "7d9340c4",
   "metadata": {},
   "outputs": [],
   "source": []
  },
  {
   "cell_type": "markdown",
   "id": "dd51185c",
   "metadata": {},
   "source": [
    "## random_series"
   ]
  },
  {
   "cell_type": "code",
   "execution_count": null,
   "id": "df851f5e",
   "metadata": {},
   "outputs": [],
   "source": []
  },
  {
   "cell_type": "markdown",
   "id": "e2c0d5c3",
   "metadata": {},
   "source": [
    "## random_walk_autocorrelation"
   ]
  },
  {
   "cell_type": "code",
   "execution_count": null,
   "id": "76ffec9c",
   "metadata": {},
   "outputs": [],
   "source": []
  },
  {
   "cell_type": "markdown",
   "id": "f16a3e42",
   "metadata": {},
   "source": [
    "## random_walk_differenced_autocorrelation"
   ]
  },
  {
   "cell_type": "code",
   "execution_count": null,
   "id": "9deba900",
   "metadata": {},
   "outputs": [],
   "source": []
  },
  {
   "cell_type": "markdown",
   "id": "68786505",
   "metadata": {},
   "source": [
    "## random_walk"
   ]
  },
  {
   "cell_type": "code",
   "execution_count": null,
   "id": "a587a3de",
   "metadata": {},
   "outputs": [],
   "source": []
  }
 ],
 "metadata": {
  "kernelspec": {
   "display_name": ".venv",
   "language": "python",
   "name": "python3"
  },
  "language_info": {
   "name": "python",
   "version": "3.12.9"
  }
 },
 "nbformat": 4,
 "nbformat_minor": 2
}
