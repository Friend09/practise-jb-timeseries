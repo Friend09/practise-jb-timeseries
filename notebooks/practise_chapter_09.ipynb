{
 "cells": [
  {
   "cell_type": "markdown",
   "id": "b12de377",
   "metadata": {},
   "source": [
    "# practise_chapter_09"
   ]
  },
  {
   "cell_type": "markdown",
   "id": "1d58a949",
   "metadata": {},
   "source": [
    "## ma_feature_eng"
   ]
  },
  {
   "cell_type": "code",
   "execution_count": null,
   "id": "5fe96a29",
   "metadata": {},
   "outputs": [],
   "source": []
  },
  {
   "cell_type": "markdown",
   "id": "4dfe601e",
   "metadata": {},
   "source": [
    "## ma_prediction"
   ]
  },
  {
   "cell_type": "code",
   "execution_count": null,
   "id": "7986a7f1",
   "metadata": {},
   "outputs": [],
   "source": []
  },
  {
   "cell_type": "markdown",
   "id": "e9416f7b",
   "metadata": {},
   "source": [
    "## ma_data_prep"
   ]
  },
  {
   "cell_type": "code",
   "execution_count": null,
   "id": "a752c2e4",
   "metadata": {},
   "outputs": [],
   "source": []
  }
 ],
 "metadata": {
  "kernelspec": {
   "display_name": ".venv",
   "language": "python",
   "name": "python3"
  },
  "language_info": {
   "name": "python",
   "version": "3.12.9"
  }
 },
 "nbformat": 4,
 "nbformat_minor": 2
}
