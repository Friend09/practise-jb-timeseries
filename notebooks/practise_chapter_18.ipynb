{
 "cells": [
  {
   "cell_type": "markdown",
   "id": "98f815b6",
   "metadata": {},
   "source": [
    "# practise_chapter_18"
   ]
  },
  {
   "cell_type": "markdown",
   "id": "66cc5ed8",
   "metadata": {},
   "source": [
    "## persistence"
   ]
  },
  {
   "cell_type": "code",
   "execution_count": null,
   "id": "acab3773",
   "metadata": {},
   "outputs": [],
   "source": []
  }
 ],
 "metadata": {
  "kernelspec": {
   "display_name": ".venv",
   "language": "python",
   "name": "python3"
  },
  "language_info": {
   "name": "python",
   "version": "3.12.9"
  }
 },
 "nbformat": 4,
 "nbformat_minor": 2
}
