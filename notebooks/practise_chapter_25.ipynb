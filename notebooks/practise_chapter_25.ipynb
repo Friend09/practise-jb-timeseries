{
 "cells": [
  {
   "cell_type": "markdown",
   "id": "5a5fff31",
   "metadata": {},
   "source": [
    "# practise_chapter_25"
   ]
  },
  {
   "cell_type": "markdown",
   "id": "4593a22a",
   "metadata": {},
   "source": [
    "## pacf_zoom"
   ]
  },
  {
   "cell_type": "code",
   "execution_count": null,
   "id": "0ccc2fdf",
   "metadata": {},
   "outputs": [],
   "source": []
  },
  {
   "cell_type": "markdown",
   "id": "44933309",
   "metadata": {},
   "source": [
    "## acf_zoom"
   ]
  },
  {
   "cell_type": "code",
   "execution_count": null,
   "id": "2e4f1f60",
   "metadata": {},
   "outputs": [],
   "source": []
  },
  {
   "cell_type": "markdown",
   "id": "c6168e0b",
   "metadata": {},
   "source": [
    "## acf"
   ]
  },
  {
   "cell_type": "code",
   "execution_count": null,
   "id": "0b0c6987",
   "metadata": {},
   "outputs": [],
   "source": []
  }
 ],
 "metadata": {
  "kernelspec": {
   "display_name": ".venv",
   "language": "python",
   "name": "python3"
  },
  "language_info": {
   "name": "python",
   "version": "3.12.9"
  }
 },
 "nbformat": 4,
 "nbformat_minor": 2
}
