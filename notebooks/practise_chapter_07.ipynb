{
 "cells": [
  {
   "cell_type": "markdown",
   "id": "b18cf992",
   "metadata": {},
   "source": [
    "# practise_chapter_07"
   ]
  },
  {
   "cell_type": "markdown",
   "id": "162ecb7d",
   "metadata": {},
   "source": [
    "## upsample_interpolate"
   ]
  },
  {
   "cell_type": "code",
   "execution_count": null,
   "id": "e92d368e",
   "metadata": {},
   "outputs": [],
   "source": []
  },
  {
   "cell_type": "markdown",
   "id": "3248a0e6",
   "metadata": {},
   "source": [
    "## downsample_quarterly"
   ]
  },
  {
   "cell_type": "code",
   "execution_count": null,
   "id": "43f6e20f",
   "metadata": {},
   "outputs": [],
   "source": []
  },
  {
   "cell_type": "markdown",
   "id": "ca376c49",
   "metadata": {},
   "source": [
    "## upsample"
   ]
  },
  {
   "cell_type": "code",
   "execution_count": null,
   "id": "db9fe4a2",
   "metadata": {},
   "outputs": [],
   "source": []
  },
  {
   "cell_type": "markdown",
   "id": "de37eeab",
   "metadata": {},
   "source": [
    "## upsample_interpolate_spline"
   ]
  },
  {
   "cell_type": "code",
   "execution_count": null,
   "id": "2fff0bad",
   "metadata": {},
   "outputs": [],
   "source": []
  },
  {
   "cell_type": "markdown",
   "id": "08794501",
   "metadata": {},
   "source": [
    "## downsample_yearly"
   ]
  },
  {
   "cell_type": "code",
   "execution_count": null,
   "id": "7e1944f6",
   "metadata": {},
   "outputs": [],
   "source": []
  }
 ],
 "metadata": {
  "kernelspec": {
   "display_name": ".venv",
   "language": "python",
   "name": "python3"
  },
  "language_info": {
   "name": "python",
   "version": "3.12.9"
  }
 },
 "nbformat": 4,
 "nbformat_minor": 2
}
