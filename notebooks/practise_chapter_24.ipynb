{
 "cells": [
  {
   "cell_type": "markdown",
   "id": "88772fcf",
   "metadata": {},
   "source": [
    "# practise_chapter_24"
   ]
  },
  {
   "cell_type": "markdown",
   "id": "d5c92f5d",
   "metadata": {},
   "source": [
    "## arima_rolling_forecast"
   ]
  },
  {
   "cell_type": "code",
   "execution_count": null,
   "id": "d74f7cb4",
   "metadata": {},
   "outputs": [],
   "source": []
  },
  {
   "cell_type": "markdown",
   "id": "e7ec9fcc",
   "metadata": {},
   "source": [
    "## autocorrelation_plot"
   ]
  },
  {
   "cell_type": "code",
   "execution_count": null,
   "id": "f20e9e0a",
   "metadata": {},
   "outputs": [],
   "source": []
  },
  {
   "cell_type": "markdown",
   "id": "a6e04d46",
   "metadata": {},
   "source": [
    "## load_and_plot"
   ]
  },
  {
   "cell_type": "code",
   "execution_count": null,
   "id": "bf850bef",
   "metadata": {},
   "outputs": [],
   "source": []
  },
  {
   "cell_type": "markdown",
   "id": "19278d61",
   "metadata": {},
   "source": [
    "## arima"
   ]
  },
  {
   "cell_type": "code",
   "execution_count": null,
   "id": "53b71ccf",
   "metadata": {},
   "outputs": [],
   "source": []
  }
 ],
 "metadata": {
  "kernelspec": {
   "display_name": ".venv",
   "language": "python",
   "name": "python3"
  },
  "language_info": {
   "name": "python",
   "version": "3.12.9"
  }
 },
 "nbformat": 4,
 "nbformat_minor": 2
}
