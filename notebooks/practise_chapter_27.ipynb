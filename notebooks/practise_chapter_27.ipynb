{
 "cells": [
  {
   "cell_type": "markdown",
   "id": "e0e9a134",
   "metadata": {},
   "source": [
    "# practise_chapter_27"
   ]
  },
  {
   "cell_type": "markdown",
   "id": "96ec70d7",
   "metadata": {},
   "source": [
    "## save_ar"
   ]
  },
  {
   "cell_type": "code",
   "execution_count": null,
   "id": "f008cef7",
   "metadata": {},
   "outputs": [],
   "source": []
  },
  {
   "cell_type": "markdown",
   "id": "46e0de5c",
   "metadata": {},
   "source": [
    "## load_ar"
   ]
  },
  {
   "cell_type": "code",
   "execution_count": null,
   "id": "b4dc4b99",
   "metadata": {},
   "outputs": [],
   "source": []
  },
  {
   "cell_type": "markdown",
   "id": "ba696a3f",
   "metadata": {},
   "source": [
    "## prediction_ar"
   ]
  },
  {
   "cell_type": "code",
   "execution_count": null,
   "id": "e36c2f8b",
   "metadata": {},
   "outputs": [],
   "source": []
  },
  {
   "cell_type": "markdown",
   "id": "69af470e",
   "metadata": {},
   "source": [
    "## prediction_manual"
   ]
  },
  {
   "cell_type": "code",
   "execution_count": null,
   "id": "a569d95c",
   "metadata": {},
   "outputs": [],
   "source": []
  },
  {
   "cell_type": "markdown",
   "id": "a9395e84",
   "metadata": {},
   "source": [
    "## update_manual"
   ]
  },
  {
   "cell_type": "code",
   "execution_count": null,
   "id": "8def93f0",
   "metadata": {},
   "outputs": [],
   "source": []
  },
  {
   "cell_type": "markdown",
   "id": "92fba3d9",
   "metadata": {},
   "source": [
    "## ar_model"
   ]
  },
  {
   "cell_type": "code",
   "execution_count": null,
   "id": "a8c4614f",
   "metadata": {},
   "outputs": [],
   "source": []
  },
  {
   "cell_type": "markdown",
   "id": "fa1ee709",
   "metadata": {},
   "source": [
    "## load_manual"
   ]
  },
  {
   "cell_type": "code",
   "execution_count": null,
   "id": "99a4a0e8",
   "metadata": {},
   "outputs": [],
   "source": []
  },
  {
   "cell_type": "markdown",
   "id": "9ebdcdfc",
   "metadata": {},
   "source": [
    "## update_ar"
   ]
  },
  {
   "cell_type": "code",
   "execution_count": null,
   "id": "e02dde25",
   "metadata": {},
   "outputs": [],
   "source": []
  },
  {
   "cell_type": "markdown",
   "id": "9f025eaf",
   "metadata": {},
   "source": [
    "## save_manual"
   ]
  },
  {
   "cell_type": "code",
   "execution_count": null,
   "id": "2879503e",
   "metadata": {},
   "outputs": [],
   "source": []
  }
 ],
 "metadata": {
  "kernelspec": {
   "display_name": ".venv",
   "language": "python",
   "name": "python3"
  },
  "language_info": {
   "name": "python",
   "version": "3.12.9"
  }
 },
 "nbformat": 4,
 "nbformat_minor": 2
}
