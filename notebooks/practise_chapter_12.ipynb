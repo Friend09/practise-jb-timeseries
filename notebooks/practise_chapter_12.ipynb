{
 "cells": [
  {
   "cell_type": "markdown",
   "id": "9e4a94af",
   "metadata": {},
   "source": [
    "# practise_chapter_12"
   ]
  },
  {
   "cell_type": "markdown",
   "id": "f97d48d9",
   "metadata": {},
   "source": [
    "## contrived_additive"
   ]
  },
  {
   "cell_type": "code",
   "execution_count": null,
   "id": "a11f066a",
   "metadata": {},
   "outputs": [],
   "source": []
  },
  {
   "cell_type": "markdown",
   "id": "3dae2b7c",
   "metadata": {},
   "source": [
    "## airline_multiplicative"
   ]
  },
  {
   "cell_type": "code",
   "execution_count": null,
   "id": "b014e032",
   "metadata": {},
   "outputs": [],
   "source": []
  },
  {
   "cell_type": "markdown",
   "id": "d7cf9734",
   "metadata": {},
   "source": [
    "## contrived_multiplicative"
   ]
  },
  {
   "cell_type": "code",
   "execution_count": null,
   "id": "1a38d263",
   "metadata": {},
   "outputs": [],
   "source": []
  }
 ],
 "metadata": {
  "kernelspec": {
   "display_name": ".venv",
   "language": "python",
   "name": "python3"
  },
  "language_info": {
   "name": "python",
   "version": "3.12.9"
  }
 },
 "nbformat": 4,
 "nbformat_minor": 2
}
