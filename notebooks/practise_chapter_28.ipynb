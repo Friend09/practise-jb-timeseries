{
 "cells": [
  {
   "cell_type": "markdown",
   "id": "e3fec796",
   "metadata": {},
   "source": [
    "# practise_chapter_28"
   ]
  },
  {
   "cell_type": "markdown",
   "id": "03b6b7dd",
   "metadata": {},
   "source": [
    "## confidence_interval"
   ]
  },
  {
   "cell_type": "code",
   "execution_count": null,
   "id": "a45e4c37",
   "metadata": {},
   "outputs": [],
   "source": []
  },
  {
   "cell_type": "markdown",
   "id": "e07033d1",
   "metadata": {},
   "source": [
    "## multiple_intervals"
   ]
  },
  {
   "cell_type": "code",
   "execution_count": null,
   "id": "665b7c4e",
   "metadata": {},
   "outputs": [],
   "source": []
  }
 ],
 "metadata": {
  "kernelspec": {
   "display_name": ".venv",
   "language": "python",
   "name": "python3"
  },
  "language_info": {
   "name": "python",
   "version": "3.12.9"
  }
 },
 "nbformat": 4,
 "nbformat_minor": 2
}
