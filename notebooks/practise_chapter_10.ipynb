{
 "cells": [
  {
   "cell_type": "markdown",
   "id": "0c8af997",
   "metadata": {},
   "source": [
    "# practise_chapter_10"
   ]
  },
  {
   "cell_type": "markdown",
   "id": "8c7fcc43",
   "metadata": {},
   "source": [
    "## white_noise"
   ]
  },
  {
   "cell_type": "code",
   "execution_count": null,
   "id": "c7f81f54",
   "metadata": {},
   "outputs": [],
   "source": []
  }
 ],
 "metadata": {
  "kernelspec": {
   "display_name": ".venv",
   "language": "python",
   "name": "python3"
  },
  "language_info": {
   "name": "python",
   "version": "3.12.9"
  }
 },
 "nbformat": 4,
 "nbformat_minor": 2
}
