{
 "cells": [
  {
   "cell_type": "markdown",
   "id": "c7c0c6e7",
   "metadata": {},
   "source": [
    "# practise_chapter_30"
   ]
  },
  {
   "cell_type": "markdown",
   "id": "ca14946b",
   "metadata": {},
   "source": [
    "## models_plot_residuals_acf"
   ]
  },
  {
   "cell_type": "code",
   "execution_count": null,
   "id": "c180b43b",
   "metadata": {},
   "outputs": [],
   "source": []
  },
  {
   "cell_type": "markdown",
   "id": "30e071bb",
   "metadata": {},
   "source": [
    "## analysis_line_plot"
   ]
  },
  {
   "cell_type": "code",
   "execution_count": null,
   "id": "96a449e1",
   "metadata": {},
   "outputs": [],
   "source": []
  },
  {
   "cell_type": "markdown",
   "id": "f5f5f5cc",
   "metadata": {},
   "source": [
    "## models_arima_boxcox"
   ]
  },
  {
   "cell_type": "code",
   "execution_count": null,
   "id": "1a52e666",
   "metadata": {},
   "outputs": [],
   "source": []
  },
  {
   "cell_type": "markdown",
   "id": "626635f9",
   "metadata": {},
   "source": [
    "## persistence"
   ]
  },
  {
   "cell_type": "code",
   "execution_count": null,
   "id": "05bfc7d3",
   "metadata": {},
   "outputs": [],
   "source": []
  },
  {
   "cell_type": "markdown",
   "id": "0671f924",
   "metadata": {},
   "source": [
    "## models_boxcox"
   ]
  },
  {
   "cell_type": "code",
   "execution_count": null,
   "id": "afffe99b",
   "metadata": {},
   "outputs": [],
   "source": []
  },
  {
   "cell_type": "markdown",
   "id": "cd561ca4",
   "metadata": {},
   "source": [
    "## finalize_load_predict"
   ]
  },
  {
   "cell_type": "code",
   "execution_count": null,
   "id": "54cb4e19",
   "metadata": {},
   "outputs": [],
   "source": []
  },
  {
   "cell_type": "markdown",
   "id": "52c0875f",
   "metadata": {},
   "source": [
    "## models_plot_residuals"
   ]
  },
  {
   "cell_type": "code",
   "execution_count": null,
   "id": "8f7cdadd",
   "metadata": {},
   "outputs": [],
   "source": []
  },
  {
   "cell_type": "markdown",
   "id": "fef94190",
   "metadata": {},
   "source": [
    "## finalize_save"
   ]
  },
  {
   "cell_type": "code",
   "execution_count": null,
   "id": "97f2c5ab",
   "metadata": {},
   "outputs": [],
   "source": []
  },
  {
   "cell_type": "markdown",
   "id": "83b188f8",
   "metadata": {},
   "source": [
    "## analysis_summary"
   ]
  },
  {
   "cell_type": "code",
   "execution_count": null,
   "id": "626a94f1",
   "metadata": {},
   "outputs": [],
   "source": []
  },
  {
   "cell_type": "markdown",
   "id": "977a12ad",
   "metadata": {},
   "source": [
    "## models_manual_arima"
   ]
  },
  {
   "cell_type": "code",
   "execution_count": null,
   "id": "f4e0f97e",
   "metadata": {},
   "outputs": [],
   "source": []
  },
  {
   "cell_type": "markdown",
   "id": "a7bed1c5",
   "metadata": {},
   "source": [
    "## models_grid_search_arima"
   ]
  },
  {
   "cell_type": "code",
   "execution_count": null,
   "id": "88335aa2",
   "metadata": {},
   "outputs": [],
   "source": []
  },
  {
   "cell_type": "markdown",
   "id": "63e2f89a",
   "metadata": {},
   "source": [
    "## split_dataset"
   ]
  },
  {
   "cell_type": "code",
   "execution_count": null,
   "id": "d7f1910b",
   "metadata": {},
   "outputs": [],
   "source": []
  },
  {
   "cell_type": "markdown",
   "id": "19fdf188",
   "metadata": {},
   "source": [
    "## analysis_boxplots"
   ]
  },
  {
   "cell_type": "code",
   "execution_count": null,
   "id": "6d3d1834",
   "metadata": {},
   "outputs": [],
   "source": []
  },
  {
   "cell_type": "markdown",
   "id": "85aeaf99",
   "metadata": {},
   "source": [
    "## analysis_density_plots"
   ]
  },
  {
   "cell_type": "code",
   "execution_count": null,
   "id": "ede2b691",
   "metadata": {},
   "outputs": [],
   "source": []
  },
  {
   "cell_type": "markdown",
   "id": "5a4b102f",
   "metadata": {},
   "source": [
    "## models_stationary"
   ]
  },
  {
   "cell_type": "code",
   "execution_count": null,
   "id": "45dd9cc0",
   "metadata": {},
   "outputs": [],
   "source": []
  },
  {
   "cell_type": "markdown",
   "id": "43be902b",
   "metadata": {},
   "source": [
    "## models_acf_pacf"
   ]
  },
  {
   "cell_type": "code",
   "execution_count": null,
   "id": "b9afb707",
   "metadata": {},
   "outputs": [],
   "source": []
  },
  {
   "cell_type": "markdown",
   "id": "0a484eab",
   "metadata": {},
   "source": [
    "## finalize_validate"
   ]
  },
  {
   "cell_type": "code",
   "execution_count": null,
   "id": "b22d4101",
   "metadata": {},
   "outputs": [],
   "source": []
  }
 ],
 "metadata": {
  "kernelspec": {
   "display_name": ".venv",
   "language": "python",
   "name": "python3"
  },
  "language_info": {
   "name": "python",
   "version": "3.12.9"
  }
 },
 "nbformat": 4,
 "nbformat_minor": 2
}
